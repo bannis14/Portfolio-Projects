{
  "cells": [
    {
      "cell_type": "markdown",
      "metadata": {
        "id": "view-in-github",
        "colab_type": "text"
      },
      "source": [
        "<a href=\"https://colab.research.google.com/github/bannis14/Portfolio-Projects/blob/main/Time_Series_Forecast/Facebook_Prophet_Parameter_Tuning.ipynb\" target=\"_parent\"><img src=\"https://colab.research.google.com/assets/colab-badge.svg\" alt=\"Open In Colab\"/></a>"
      ]
    },
    {
      "cell_type": "markdown",
      "source": [
        "# Facebook Prophet - Parameter Tuning"
      ],
      "metadata": {
        "id": "vZwKN50sTJHV"
      },
      "id": "vZwKN50sTJHV"
    },
    {
      "cell_type": "markdown",
      "source": [
        "## Libraries and Data"
      ],
      "metadata": {
        "id": "cea0fa65"
      },
      "id": "cea0fa65"
    },
    {
      "cell_type": "code",
      "execution_count": null,
      "id": "6e307b36",
      "metadata": {
        "id": "6e307b36"
      },
      "outputs": [],
      "source": [
        "from google.colab import drive\n",
        "drive.mount('/content/drive')"
      ]
    },
    {
      "cell_type": "code",
      "execution_count": null,
      "id": "3b6cf27e",
      "metadata": {
        "id": "3b6cf27e"
      },
      "outputs": [],
      "source": [
        "# Change directory\n",
        "%cd /content/drive/MyDrive/Time Series Forecasting Product"
      ]
    },
    {
      "cell_type": "code",
      "execution_count": null,
      "id": "b6dcab6e",
      "metadata": {
        "id": "b6dcab6e"
      },
      "outputs": [],
      "source": [
        "# Libraries\n",
        "import numpy as np\n",
        "import pandas as pd\n",
        "import matplotlib.pyplot as plt\n",
        "from fbprophet import Prophet\n",
        "from fbprophet.diagnostics import cross_validation, performance_metrics\n",
        "from fbprophet.plot import plot_cross_validation_metric\n",
        "from sklearn.model_selection import ParameterGrid"
      ]
    },
    {
      "cell_type": "code",
      "execution_count": null,
      "id": "ff6d5df6",
      "metadata": {
        "id": "ff6d5df6"
      },
      "outputs": [],
      "source": [
        "# Load the data\n",
        "# YYYY-MM-DD\n",
        "df = pd.read_csv('nyc_data.csv')\n",
        "df.head()"
      ]
    },
    {
      "cell_type": "code",
      "execution_count": null,
      "id": "e323ddbe",
      "metadata": {
        "id": "e323ddbe"
      },
      "outputs": [],
      "source": [
        "# Rename variable\n",
        "df = df.rename(columns={'Demand': 'y',\n",
        "                        'Date': 'ds'})\n",
        "df.head(0)"
      ]
    },
    {
      "cell_type": "code",
      "execution_count": null,
      "id": "c9f453a4",
      "metadata": {
        "id": "c9f453a4"
      },
      "outputs": [],
      "source": [
        "# Date variable\n",
        "df.ds = pd.to_datetime(df.ds,\n",
        "                       format=\"%m/%d/%Y\")\n",
        "df.ds"
      ]
    },
    {
      "cell_type": "markdown",
      "source": [
        "## Holiday Handling"
      ],
      "metadata": {
        "id": "497772c2"
      },
      "id": "497772c2"
    },
    {
      "cell_type": "code",
      "execution_count": null,
      "id": "1d9cdd10",
      "metadata": {
        "id": "1d9cdd10"
      },
      "outputs": [],
      "source": [
        "# Easter\n",
        "dates = pd.to_datetime(df[df.Easter == 1].ds)\n",
        "easter = pd.DataFrame({'holiday': 'easter',\n",
        "                       'ds': dates,\n",
        "                       'lower_window': -5,\n",
        "                       'upper_window': 2})"
      ]
    },
    {
      "cell_type": "code",
      "execution_count": null,
      "id": "73347c63",
      "metadata": {
        "id": "73347c63"
      },
      "outputs": [],
      "source": [
        "# Thanksgiving\n",
        "dates = pd.to_datetime(df[df.Thanksgiving == 1].ds)\n",
        "thanksgiving = pd.DataFrame({'holiday': 'thanksgiving',\n",
        "                             'ds': dates,\n",
        "                             'lower_window': -3,\n",
        "                             'upper_window': 6})\n",
        "thanksgiving"
      ]
    },
    {
      "cell_type": "code",
      "execution_count": null,
      "id": "708bb34a",
      "metadata": {
        "id": "708bb34a"
      },
      "outputs": [],
      "source": [
        "# Combining events\n",
        "holidays = pd.concat([easter, thanksgiving])\n",
        "holidays"
      ]
    },
    {
      "cell_type": "code",
      "execution_count": null,
      "id": "5a358e3a",
      "metadata": {
        "id": "5a358e3a"
      },
      "outputs": [],
      "source": [
        "df = df.drop(columns=[\"Easter\", \"Thanksgiving\"])\n",
        "df.head(0)"
      ]
    },
    {
      "cell_type": "markdown",
      "source": [
        "## Facebook Prophet Model"
      ],
      "metadata": {
        "id": "32efdd0e"
      },
      "id": "32efdd0e"
    },
    {
      "cell_type": "code",
      "execution_count": null,
      "id": "55613da9",
      "metadata": {
        "id": "55613da9"
      },
      "outputs": [],
      "source": [
        "# FB model\n",
        "m = Prophet(holidays=holidays,\n",
        "            seasonality_mode='multiplicative',\n",
        "            seasonality_prior_scale=10,\n",
        "            holidays_prior_scale=10,\n",
        "            changepoint_prior_scale=0.05)\n",
        "m.add_regressor('Christmas')\n",
        "m.add_regressor('Temperature')\n",
        "m.add_regressor('Marketing')\n",
        "m.fit(df)"
      ]
    },
    {
      "cell_type": "code",
      "execution_count": null,
      "id": "300ff029",
      "metadata": {
        "id": "300ff029"
      },
      "outputs": [],
      "source": [
        "# Check how many observations\n",
        "df.shape[0] - 180"
      ]
    },
    {
      "cell_type": "code",
      "execution_count": null,
      "id": "b91e5243",
      "metadata": {
        "id": "b91e5243"
      },
      "outputs": [],
      "source": [
        "# Cross-validation\n",
        "df_cv = cross_validation(m,\n",
        "                         horizon='31 days',\n",
        "                         period='16 days',\n",
        "                         initial='2012 days',\n",
        "                         parallel='processes')\n",
        "df_cv.head()"
      ]
    },
    {
      "cell_type": "code",
      "execution_count": null,
      "id": "70ba2e7a",
      "metadata": {
        "id": "70ba2e7a"
      },
      "outputs": [],
      "source": [
        "# Performance\n",
        "performance_metrics(df_cv).head()"
      ]
    },
    {
      "cell_type": "code",
      "execution_count": null,
      "id": "5390c7f4",
      "metadata": {
        "id": "5390c7f4"
      },
      "outputs": [],
      "source": [
        "# RMSE and MAPE\n",
        "print(\"RMSE: \", round(performance_metrics(df_cv)[\"rmse\"].mean(), 1))\n",
        "print(\"MAPE: \", 100 * round(performance_metrics(df_cv)[\"mape\"].mean(), 3), \"%\")"
      ]
    },
    {
      "cell_type": "code",
      "execution_count": null,
      "id": "7ce2245e",
      "metadata": {
        "id": "7ce2245e"
      },
      "outputs": [],
      "source": [
        "# Plotting\n",
        "plot_cross_validation_metric(df_cv, metric='rmse');"
      ]
    },
    {
      "cell_type": "markdown",
      "source": [
        "## Parameter Tuning"
      ],
      "metadata": {
        "id": "3f3b2f5b"
      },
      "id": "3f3b2f5b"
    },
    {
      "cell_type": "code",
      "execution_count": null,
      "id": "7d71801a",
      "metadata": {
        "id": "7d71801a"
      },
      "outputs": [],
      "source": [
        "# Parameter Grid\n",
        "param_grid = {'seasonality_mode': [\"additive\", 'multiplicative'],\n",
        "              'seasonality_prior_scale': [1, 5, 10, 20],\n",
        "              'holidays_prior_scale': [5, 10, 20, 25],\n",
        "              'changepoint_prior_scale': [0.005, 0.01, 0.05, 0.1]}\n",
        "grid = ParameterGrid(param_grid)\n",
        "len(list(grid))"
      ]
    },
    {
      "cell_type": "code",
      "execution_count": null,
      "id": "b0072bd8",
      "metadata": {
        "id": "b0072bd8"
      },
      "outputs": [],
      "source": [
        "# Store the results\n",
        "rmse = []"
      ]
    },
    {
      "cell_type": "code",
      "execution_count": null,
      "id": "54e83fdb",
      "metadata": {
        "id": "54e83fdb"
      },
      "outputs": [],
      "source": [
        "# Loop\n",
        "i = 1\n",
        "for params in grid:\n",
        "    print(f\"{i} / {len(list(grid))}\")\n",
        "    # Model\n",
        "    m = Prophet(holidays=holidays,\n",
        "                seasonality_mode=params['seasonality_mode'],\n",
        "                seasonality_prior_scale=params['seasonality_prior_scale'],\n",
        "                holidays_prior_scale=params['holidays_prior_scale'],\n",
        "                changepoint_prior_scale=params['changepoint_prior_scale'])\n",
        "    m.add_regressor('Christmas')\n",
        "    m.add_regressor('Temperature')\n",
        "    m.add_regressor('Marketing')\n",
        "    m.fit(df)\n",
        "\n",
        "    # CV\n",
        "    df_cv = cross_validation(m,\n",
        "                             horizon='31 days',\n",
        "                             period='16 days',\n",
        "                             initial='2012 days',\n",
        "                             parallel='processes')\n",
        "\n",
        "    # Measure the error and store the result\n",
        "    error = performance_metrics(df_cv)[\"rmse\"].mean()\n",
        "    rmse.append(error)\n",
        "\n",
        "    i += 1"
      ]
    },
    {
      "cell_type": "code",
      "execution_count": null,
      "id": "85d24356",
      "metadata": {
        "id": "85d24356"
      },
      "outputs": [],
      "source": [
        "# Check the results\n",
        "tuning_results = pd.DataFrame(grid)\n",
        "tuning_results['rmse'] = rmse\n",
        "tuning_results"
      ]
    },
    {
      "cell_type": "code",
      "execution_count": null,
      "id": "62e4bc2f",
      "metadata": {
        "id": "62e4bc2f"
      },
      "outputs": [],
      "source": [
        "# Export best parameters\n",
        "best_params = tuning_results[tuning_results.rmse == tuning_results.rmse.min()].transpose()\n",
        "best_params.to_csv(\"Forecasting Product/best_params_prophet.csv\")"
      ]
    }
  ],
  "metadata": {
    "jupytext": {
      "cell_metadata_filter": "-all",
      "encoding": "# -*- coding: utf-8 -*-",
      "main_language": "python",
      "notebook_metadata_filter": "-all"
    },
    "colab": {
      "provenance": [],
      "include_colab_link": true
    }
  },
  "nbformat": 4,
  "nbformat_minor": 5
}